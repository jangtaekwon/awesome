{
  "nbformat": 4,
  "nbformat_minor": 0,
  "metadata": {
    "colab": {
      "name": "201205.ipynb",
      "provenance": [],
      "authorship_tag": "ABX9TyMdfCZpmT8gPXp/4AGLMs1T",
      "include_colab_link": true
    },
    "kernelspec": {
      "name": "python3",
      "display_name": "Python 3"
    }
  },
  "cells": [
    {
      "cell_type": "markdown",
      "metadata": {
        "id": "view-in-github",
        "colab_type": "text"
      },
      "source": [
        "<a href=\"https://colab.research.google.com/github/jangtaekwon/awesome/blob/master/201205.ipynb\" target=\"_parent\"><img src=\"https://colab.research.google.com/assets/colab-badge.svg\" alt=\"Open In Colab\"/></a>"
      ]
    },
    {
      "cell_type": "code",
      "metadata": {
        "colab": {
          "base_uri": "https://localhost:8080/"
        },
        "id": "p9cq49SvUdSf",
        "outputId": "049f7766-b7c1-40e9-a7ad-6f1ed3319bb2"
      },
      "source": [
        "from google.colab import drive\n",
        "drive.mount('/content/drive')"
      ],
      "execution_count": 4,
      "outputs": [
        {
          "output_type": "stream",
          "text": [
            "Mounted at /content/drive\n"
          ],
          "name": "stdout"
        }
      ]
    },
    {
      "cell_type": "code",
      "metadata": {
        "colab": {
          "base_uri": "https://localhost:8080/"
        },
        "id": "Q7jur4oHTw0R",
        "outputId": "9b04722b-d9d5-4dd4-ddcd-bf53d7ba834e"
      },
      "source": [
        "import pandas as pd\n",
        "\n",
        "df_all = pd.read_csv('/content/drive/My Drive/lotto_date_201204_2.csv')\n",
        "df_date = df_all[['ds']]\n",
        "df = df_all[['S1','S2','S3','S4','S5','S6']]\n",
        "total_row = df.shape[0]     #len(df) = len(df.index)\n",
        "print(\"Total row:\", total_row)\n",
        "print(df.head(2))"
      ],
      "execution_count": 7,
      "outputs": [
        {
          "output_type": "stream",
          "text": [
            "Total row: 939\n",
            "   S1  S2  S3  S4  S5  S6\n",
            "0   4  11  28  39  42  45\n",
            "1   4   8  10  16  31  36\n"
          ],
          "name": "stdout"
        }
      ]
    }
  ]
}